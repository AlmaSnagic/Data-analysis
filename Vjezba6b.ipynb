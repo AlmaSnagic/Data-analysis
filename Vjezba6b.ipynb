{
 "cells": [
  {
   "cell_type": "code",
   "execution_count": 27,
   "metadata": {},
   "outputs": [],
   "source": [
    "import pandas as pd"
   ]
  },
  {
   "cell_type": "code",
   "execution_count": 28,
   "metadata": {},
   "outputs": [],
   "source": [
    "salary = pd.read_csv('IT Salary Survey EU  2020.csv')"
   ]
  },
  {
   "cell_type": "code",
   "execution_count": 29,
   "metadata": {},
   "outputs": [
    {
     "name": "stdout",
     "output_type": "stream",
     "text": [
      "<class 'pandas.core.frame.DataFrame'>\n",
      "RangeIndex: 1253 entries, 0 to 1252\n",
      "Data columns (total 23 columns):\n",
      " #   Column                                                                                                                   Non-Null Count  Dtype  \n",
      "---  ------                                                                                                                   --------------  -----  \n",
      " 0   Timestamp                                                                                                                1253 non-null   object \n",
      " 1   Age                                                                                                                      1226 non-null   float64\n",
      " 2   Gender                                                                                                                   1243 non-null   object \n",
      " 3   City                                                                                                                     1253 non-null   object \n",
      " 4   Position                                                                                                                 1247 non-null   object \n",
      " 5   Total years of experience                                                                                                1237 non-null   object \n",
      " 6   Years of experience in Germany                                                                                           1221 non-null   object \n",
      " 7   Seniority level                                                                                                          1241 non-null   object \n",
      " 8   Your main technology / programming language                                                                              1126 non-null   object \n",
      " 9   Other technologies/programming languages you use often                                                                   1096 non-null   object \n",
      " 10  Yearly brutto salary (without bonus and stocks) in EUR                                                                   1253 non-null   float64\n",
      " 11  Yearly bonus + stocks in EUR                                                                                             829 non-null    object \n",
      " 12  Annual brutto salary (without bonus and stocks) one year ago. Only answer if staying in the same country                 885 non-null    float64\n",
      " 13  Annual bonus+stocks one year ago. Only answer if staying in same country                                                 614 non-null    object \n",
      " 14  Number of vacation days                                                                                                  1185 non-null   object \n",
      " 15  Employment status                                                                                                        1236 non-null   object \n",
      " 16  Сontract duration                                                                                                        1224 non-null   object \n",
      " 17  Main language at work                                                                                                    1237 non-null   object \n",
      " 18  Company size                                                                                                             1235 non-null   object \n",
      " 19  Company type                                                                                                             1228 non-null   object \n",
      " 20  Have you lost your job due to the coronavirus outbreak?                                                                  1233 non-null   object \n",
      " 21  Have you been forced to have a shorter working week (Kurzarbeit)? If yes, how many hours per week                        373 non-null    float64\n",
      " 22  Have you received additional monetary support from your employer due to Work From Home? If yes, how much in 2020 in EUR  462 non-null    object \n",
      "dtypes: float64(4), object(19)\n",
      "memory usage: 225.3+ KB\n"
     ]
    }
   ],
   "source": [
    "salary.info()"
   ]
  },
  {
   "cell_type": "code",
   "execution_count": 30,
   "metadata": {},
   "outputs": [
    {
     "data": {
      "text/html": [
       "<div>\n",
       "<style scoped>\n",
       "    .dataframe tbody tr th:only-of-type {\n",
       "        vertical-align: middle;\n",
       "    }\n",
       "\n",
       "    .dataframe tbody tr th {\n",
       "        vertical-align: top;\n",
       "    }\n",
       "\n",
       "    .dataframe thead th {\n",
       "        text-align: right;\n",
       "    }\n",
       "</style>\n",
       "<table border=\"1\" class=\"dataframe\">\n",
       "  <thead>\n",
       "    <tr style=\"text-align: right;\">\n",
       "      <th></th>\n",
       "      <th>Timestamp</th>\n",
       "      <th>Age</th>\n",
       "      <th>Gender</th>\n",
       "      <th>City</th>\n",
       "      <th>Position</th>\n",
       "      <th>Total years of experience</th>\n",
       "      <th>Years of experience in Germany</th>\n",
       "      <th>Seniority level</th>\n",
       "      <th>Your main technology / programming language</th>\n",
       "      <th>Other technologies/programming languages you use often</th>\n",
       "      <th>...</th>\n",
       "      <th>Annual bonus+stocks one year ago. Only answer if staying in same country</th>\n",
       "      <th>Number of vacation days</th>\n",
       "      <th>Employment status</th>\n",
       "      <th>Сontract duration</th>\n",
       "      <th>Main language at work</th>\n",
       "      <th>Company size</th>\n",
       "      <th>Company type</th>\n",
       "      <th>Have you lost your job due to the coronavirus outbreak?</th>\n",
       "      <th>Have you been forced to have a shorter working week (Kurzarbeit)? If yes, how many hours per week</th>\n",
       "      <th>Have you received additional monetary support from your employer due to Work From Home? If yes, how much in 2020 in EUR</th>\n",
       "    </tr>\n",
       "  </thead>\n",
       "  <tbody>\n",
       "    <tr>\n",
       "      <th>0</th>\n",
       "      <td>24/11/2020 11:14:15</td>\n",
       "      <td>26.0</td>\n",
       "      <td>Male</td>\n",
       "      <td>Munich</td>\n",
       "      <td>Software Engineer</td>\n",
       "      <td>5</td>\n",
       "      <td>3</td>\n",
       "      <td>Senior</td>\n",
       "      <td>TypeScript</td>\n",
       "      <td>Kotlin, Javascript / Typescript</td>\n",
       "      <td>...</td>\n",
       "      <td>10000</td>\n",
       "      <td>30</td>\n",
       "      <td>Full-time employee</td>\n",
       "      <td>Unlimited contract</td>\n",
       "      <td>English</td>\n",
       "      <td>51-100</td>\n",
       "      <td>Product</td>\n",
       "      <td>No</td>\n",
       "      <td>NaN</td>\n",
       "      <td>NaN</td>\n",
       "    </tr>\n",
       "    <tr>\n",
       "      <th>1</th>\n",
       "      <td>24/11/2020 11:14:16</td>\n",
       "      <td>26.0</td>\n",
       "      <td>Male</td>\n",
       "      <td>Berlin</td>\n",
       "      <td>Backend Developer</td>\n",
       "      <td>7</td>\n",
       "      <td>4</td>\n",
       "      <td>Senior</td>\n",
       "      <td>Ruby</td>\n",
       "      <td>NaN</td>\n",
       "      <td>...</td>\n",
       "      <td>5000</td>\n",
       "      <td>28</td>\n",
       "      <td>Full-time employee</td>\n",
       "      <td>Unlimited contract</td>\n",
       "      <td>English</td>\n",
       "      <td>101-1000</td>\n",
       "      <td>Product</td>\n",
       "      <td>No</td>\n",
       "      <td>NaN</td>\n",
       "      <td>NaN</td>\n",
       "    </tr>\n",
       "    <tr>\n",
       "      <th>2</th>\n",
       "      <td>24/11/2020 11:14:21</td>\n",
       "      <td>29.0</td>\n",
       "      <td>Male</td>\n",
       "      <td>Berlin</td>\n",
       "      <td>Software Engineer</td>\n",
       "      <td>12</td>\n",
       "      <td>6</td>\n",
       "      <td>Lead</td>\n",
       "      <td>Javascript / Typescript</td>\n",
       "      <td>Javascript / Typescript, Docker</td>\n",
       "      <td>...</td>\n",
       "      <td>100000</td>\n",
       "      <td>30</td>\n",
       "      <td>Self-employed (freelancer)</td>\n",
       "      <td>Temporary contract</td>\n",
       "      <td>English</td>\n",
       "      <td>101-1000</td>\n",
       "      <td>Product</td>\n",
       "      <td>Yes</td>\n",
       "      <td>NaN</td>\n",
       "      <td>NaN</td>\n",
       "    </tr>\n",
       "    <tr>\n",
       "      <th>3</th>\n",
       "      <td>24/11/2020 11:15:24</td>\n",
       "      <td>28.0</td>\n",
       "      <td>Male</td>\n",
       "      <td>Berlin</td>\n",
       "      <td>Frontend Developer</td>\n",
       "      <td>4</td>\n",
       "      <td>1</td>\n",
       "      <td>Junior</td>\n",
       "      <td>Javascript</td>\n",
       "      <td>NaN</td>\n",
       "      <td>...</td>\n",
       "      <td>NaN</td>\n",
       "      <td>24</td>\n",
       "      <td>Full-time employee</td>\n",
       "      <td>Unlimited contract</td>\n",
       "      <td>English</td>\n",
       "      <td>51-100</td>\n",
       "      <td>Startup</td>\n",
       "      <td>No</td>\n",
       "      <td>NaN</td>\n",
       "      <td>NaN</td>\n",
       "    </tr>\n",
       "    <tr>\n",
       "      <th>4</th>\n",
       "      <td>24/11/2020 11:15:46</td>\n",
       "      <td>37.0</td>\n",
       "      <td>Male</td>\n",
       "      <td>Berlin</td>\n",
       "      <td>Backend Developer</td>\n",
       "      <td>17</td>\n",
       "      <td>6</td>\n",
       "      <td>Senior</td>\n",
       "      <td>C# .NET</td>\n",
       "      <td>.NET, SQL, AWS, Docker</td>\n",
       "      <td>...</td>\n",
       "      <td>NaN</td>\n",
       "      <td>29</td>\n",
       "      <td>Full-time employee</td>\n",
       "      <td>Unlimited contract</td>\n",
       "      <td>English</td>\n",
       "      <td>101-1000</td>\n",
       "      <td>Product</td>\n",
       "      <td>No</td>\n",
       "      <td>NaN</td>\n",
       "      <td>NaN</td>\n",
       "    </tr>\n",
       "  </tbody>\n",
       "</table>\n",
       "<p>5 rows × 23 columns</p>\n",
       "</div>"
      ],
      "text/plain": [
       "             Timestamp   Age Gender    City           Position   \\\n",
       "0  24/11/2020 11:14:15  26.0   Male  Munich   Software Engineer   \n",
       "1  24/11/2020 11:14:16  26.0   Male  Berlin   Backend Developer   \n",
       "2  24/11/2020 11:14:21  29.0   Male  Berlin   Software Engineer   \n",
       "3  24/11/2020 11:15:24  28.0   Male  Berlin  Frontend Developer   \n",
       "4  24/11/2020 11:15:46  37.0   Male  Berlin   Backend Developer   \n",
       "\n",
       "  Total years of experience Years of experience in Germany Seniority level  \\\n",
       "0                         5                              3          Senior   \n",
       "1                         7                              4          Senior   \n",
       "2                        12                              6            Lead   \n",
       "3                         4                              1          Junior   \n",
       "4                        17                              6          Senior   \n",
       "\n",
       "  Your main technology / programming language  \\\n",
       "0                                  TypeScript   \n",
       "1                                        Ruby   \n",
       "2                     Javascript / Typescript   \n",
       "3                                  Javascript   \n",
       "4                                     C# .NET   \n",
       "\n",
       "  Other technologies/programming languages you use often  ...  \\\n",
       "0                    Kotlin, Javascript / Typescript      ...   \n",
       "1                                                NaN      ...   \n",
       "2                    Javascript / Typescript, Docker      ...   \n",
       "3                                                NaN      ...   \n",
       "4                             .NET, SQL, AWS, Docker      ...   \n",
       "\n",
       "   Annual bonus+stocks one year ago. Only answer if staying in same country  \\\n",
       "0                                              10000                          \n",
       "1                                               5000                          \n",
       "2                                             100000                          \n",
       "3                                                NaN                          \n",
       "4                                                NaN                          \n",
       "\n",
       "  Number of vacation days           Employment status   Сontract duration  \\\n",
       "0                      30          Full-time employee  Unlimited contract   \n",
       "1                      28          Full-time employee  Unlimited contract   \n",
       "2                      30  Self-employed (freelancer)  Temporary contract   \n",
       "3                      24          Full-time employee  Unlimited contract   \n",
       "4                      29          Full-time employee  Unlimited contract   \n",
       "\n",
       "  Main language at work Company size Company type  \\\n",
       "0               English       51-100      Product   \n",
       "1               English     101-1000      Product   \n",
       "2               English     101-1000      Product   \n",
       "3               English       51-100      Startup   \n",
       "4               English     101-1000      Product   \n",
       "\n",
       "  Have you lost your job due to the coronavirus outbreak?  \\\n",
       "0                                                 No        \n",
       "1                                                 No        \n",
       "2                                                Yes        \n",
       "3                                                 No        \n",
       "4                                                 No        \n",
       "\n",
       "  Have you been forced to have a shorter working week (Kurzarbeit)? If yes, how many hours per week  \\\n",
       "0                                                NaN                                                  \n",
       "1                                                NaN                                                  \n",
       "2                                                NaN                                                  \n",
       "3                                                NaN                                                  \n",
       "4                                                NaN                                                  \n",
       "\n",
       "  Have you received additional monetary support from your employer due to Work From Home? If yes, how much in 2020 in EUR  \n",
       "0                                                NaN                                                                       \n",
       "1                                                NaN                                                                       \n",
       "2                                                NaN                                                                       \n",
       "3                                                NaN                                                                       \n",
       "4                                                NaN                                                                       \n",
       "\n",
       "[5 rows x 23 columns]"
      ]
     },
     "execution_count": 30,
     "metadata": {},
     "output_type": "execute_result"
    }
   ],
   "source": [
    "salary.head()"
   ]
  },
  {
   "cell_type": "code",
   "execution_count": 31,
   "metadata": {},
   "outputs": [
    {
     "data": {
      "text/plain": [
       "Index(['Timestamp', 'Age', 'Gender', 'City', 'Position ',\n",
       "       'Total years of experience', 'Years of experience in Germany',\n",
       "       'Seniority level', 'Your main technology / programming language',\n",
       "       'Other technologies/programming languages you use often',\n",
       "       'Yearly brutto salary (without bonus and stocks) in EUR',\n",
       "       'Yearly bonus + stocks in EUR',\n",
       "       'Annual brutto salary (without bonus and stocks) one year ago. Only answer if staying in the same country',\n",
       "       'Annual bonus+stocks one year ago. Only answer if staying in same country',\n",
       "       'Number of vacation days', 'Employment status', 'Сontract duration',\n",
       "       'Main language at work', 'Company size', 'Company type',\n",
       "       'Have you lost your job due to the coronavirus outbreak?',\n",
       "       'Have you been forced to have a shorter working week (Kurzarbeit)? If yes, how many hours per week',\n",
       "       'Have you received additional monetary support from your employer due to Work From Home? If yes, how much in 2020 in EUR'],\n",
       "      dtype='object')"
      ]
     },
     "execution_count": 31,
     "metadata": {},
     "output_type": "execute_result"
    }
   ],
   "source": [
    "salary.columns"
   ]
  },
  {
   "cell_type": "code",
   "execution_count": 32,
   "metadata": {},
   "outputs": [
    {
     "data": {
      "text/plain": [
       "np.float64(80279042.57871509)"
      ]
     },
     "execution_count": 32,
     "metadata": {},
     "output_type": "execute_result"
    }
   ],
   "source": [
    "salary['Yearly brutto salary (without bonus and stocks) in EUR'].mean()"
   ]
  },
  {
   "cell_type": "code",
   "execution_count": 33,
   "metadata": {},
   "outputs": [
    {
     "data": {
      "text/plain": [
       "Timestamp                                                                                                                  25/11/2020 03:27:34\n",
       "Age                                                                                                                                        NaN\n",
       "Gender                                                                                                                                     NaN\n",
       "City                                                                                                                                    Berlin\n",
       "Position                                                                                                                                   NaN\n",
       "Total years of experience                                                                                                                  NaN\n",
       "Years of experience in Germany                                                                                                             NaN\n",
       "Seniority level                                                                                                                            NaN\n",
       "Your main technology / programming language                                                                                                NaN\n",
       "Other technologies/programming languages you use often                                                                                     NaN\n",
       "Yearly brutto salary (without bonus and stocks) in EUR                                                                           99999999999.0\n",
       "Yearly bonus + stocks in EUR                                                                                                               NaN\n",
       "Annual brutto salary (without bonus and stocks) one year ago. Only answer if staying in the same country                                   NaN\n",
       "Annual bonus+stocks one year ago. Only answer if staying in same country                                                                   NaN\n",
       "Number of vacation days                                                                                                                    NaN\n",
       "Employment status                                                                                                                          NaN\n",
       "Сontract duration                                                                                                                          NaN\n",
       "Main language at work                                                                                                                      NaN\n",
       "Company size                                                                                                                               NaN\n",
       "Company type                                                                                                                               NaN\n",
       "Have you lost your job due to the coronavirus outbreak?                                                                                    NaN\n",
       "Have you been forced to have a shorter working week (Kurzarbeit)? If yes, how many hours per week                                          NaN\n",
       "Have you received additional monetary support from your employer due to Work From Home? If yes, how much in 2020 in EUR                    NaN\n",
       "Name: 473, dtype: object"
      ]
     },
     "execution_count": 33,
     "metadata": {},
     "output_type": "execute_result"
    }
   ],
   "source": [
    "i = salary['Yearly brutto salary (without bonus and stocks) in EUR'].idxmax()\n",
    "salary.loc[i]"
   ]
  },
  {
   "cell_type": "code",
   "execution_count": 34,
   "metadata": {},
   "outputs": [],
   "source": [
    "salary.drop(i, axis=0, inplace=True)"
   ]
  },
  {
   "cell_type": "code",
   "execution_count": 35,
   "metadata": {},
   "outputs": [
    {
     "data": {
      "text/plain": [
       "np.float64(470958.7477076677)"
      ]
     },
     "execution_count": 35,
     "metadata": {},
     "output_type": "execute_result"
    }
   ],
   "source": [
    "salary['Yearly brutto salary (without bonus and stocks) in EUR'].mean()"
   ]
  },
  {
   "cell_type": "code",
   "execution_count": 36,
   "metadata": {},
   "outputs": [
    {
     "data": {
      "text/plain": [
       "Timestamp                                                                                                                  27/11/2020 14:55:13\n",
       "Age                                                                                                                                       29.0\n",
       "Gender                                                                                                                                  Female\n",
       "City                                                                                                                                   Cologne\n",
       "Position                                                                                                                           ML Engineer\n",
       "Total years of experience                                                                                                                    1\n",
       "Years of experience in Germany                                                                                                               1\n",
       "Seniority level                                                                                                                         Middle\n",
       "Your main technology / programming language                                                                                              julia\n",
       "Other technologies/programming languages you use often                                                                                     NaN\n",
       "Yearly brutto salary (without bonus and stocks) in EUR                                                                             500000000.0\n",
       "Yearly bonus + stocks in EUR                                                                                                        5000000000\n",
       "Annual brutto salary (without bonus and stocks) one year ago. Only answer if staying in the same country                           500000000.0\n",
       "Annual bonus+stocks one year ago. Only answer if staying in same country                                                              50000000\n",
       "Number of vacation days                                                                                                                     99\n",
       "Employment status                                                                                                           Full-time employee\n",
       "Сontract duration                                                                                                           Unlimited contract\n",
       "Main language at work                                                                                                                  English\n",
       "Company size                                                                                                                          up to 10\n",
       "Company type                                                                                                                           Startup\n",
       "Have you lost your job due to the coronavirus outbreak?                                                                                     No\n",
       "Have you been forced to have a shorter working week (Kurzarbeit)? If yes, how many hours per week                                          0.0\n",
       "Have you received additional monetary support from your employer due to Work From Home? If yes, how much in 2020 in EUR                      0\n",
       "Name: 853, dtype: object"
      ]
     },
     "execution_count": 36,
     "metadata": {},
     "output_type": "execute_result"
    }
   ],
   "source": [
    "i = salary['Yearly brutto salary (without bonus and stocks) in EUR'].idxmax()\n",
    "salary.loc[i]"
   ]
  },
  {
   "cell_type": "code",
   "execution_count": 37,
   "metadata": {},
   "outputs": [],
   "source": [
    "salary.drop(i, axis=0, inplace=True)"
   ]
  },
  {
   "cell_type": "code",
   "execution_count": 38,
   "metadata": {},
   "outputs": [
    {
     "data": {
      "text/plain": [
       "Timestamp                                                                                                                      26/11/2020 17:08:47\n",
       "Age                                                                                                                                           42.0\n",
       "Gender                                                                                                                                        Male\n",
       "City                                                                                                                                        Berlin\n",
       "Position                                                                                                                        Frontend Developer\n",
       "Total years of experience                                                                                                                       18\n",
       "Years of experience in Germany                                                                                                                   5\n",
       "Seniority level                                                                                                                             Senior\n",
       "Your main technology / programming language                                                                                               React JS\n",
       "Other technologies/programming languages you use often                                                                     Javascript / Typescript\n",
       "Yearly brutto salary (without bonus and stocks) in EUR                                                                                    850000.0\n",
       "Yearly bonus + stocks in EUR                                                                                                                 95000\n",
       "Annual brutto salary (without bonus and stocks) one year ago. Only answer if staying in the same country                                   75000.0\n",
       "Annual bonus+stocks one year ago. Only answer if staying in same country                                                                     82000\n",
       "Number of vacation days                                                                                                                         35\n",
       "Employment status                                                                                                               Full-time employee\n",
       "Сontract duration                                                                                                               Unlimited contract\n",
       "Main language at work                                                                                                                      English\n",
       "Company size                                                                                                                              101-1000\n",
       "Company type                                                                                                                               Product\n",
       "Have you lost your job due to the coronavirus outbreak?                                                                                        Yes\n",
       "Have you been forced to have a shorter working week (Kurzarbeit)? If yes, how many hours per week                                              NaN\n",
       "Have you received additional monetary support from your employer due to Work From Home? If yes, how much in 2020 in EUR                       5000\n",
       "Name: 778, dtype: object"
      ]
     },
     "execution_count": 38,
     "metadata": {},
     "output_type": "execute_result"
    }
   ],
   "source": [
    "i = salary['Yearly brutto salary (without bonus and stocks) in EUR'].idxmax()\n",
    "salary.loc[i]"
   ]
  },
  {
   "cell_type": "code",
   "execution_count": 39,
   "metadata": {},
   "outputs": [
    {
     "data": {
      "text/plain": [
       "Timestamp                                                                                                                                         28/11/2020 05:36:11\n",
       "Age                                                                                                                                                              27.0\n",
       "Gender                                                                                                                                                           Male\n",
       "City                                                                                                                                                          Hamburg\n",
       "Position                                                                                                                                            Backend Developer\n",
       "Total years of experience                                                                                                                                           3\n",
       "Years of experience in Germany                                                                                                                                      ⁰\n",
       "Seniority level                                                                                                                                                Middle\n",
       "Your main technology / programming language                                                                                                                      .net\n",
       "Other technologies/programming languages you use often                                                                     Javascript / Typescript, .NET, SQL, Docker\n",
       "Yearly brutto salary (without bonus and stocks) in EUR                                                                                                        10001.0\n",
       "Yearly bonus + stocks in EUR                                                                                                                                      NaN\n",
       "Annual brutto salary (without bonus and stocks) one year ago. Only answer if staying in the same country                                                          NaN\n",
       "Annual bonus+stocks one year ago. Only answer if staying in same country                                                                                          NaN\n",
       "Number of vacation days                                                                                                                                           NaN\n",
       "Employment status                                                                                                                                  Part-time employee\n",
       "Сontract duration                                                                                                                                  Temporary contract\n",
       "Main language at work                                                                                                                                         English\n",
       "Company size                                                                                                                                                    11-50\n",
       "Company type                                                                                                                                      Consulting / Agency\n",
       "Have you lost your job due to the coronavirus outbreak?                                                                                                            No\n",
       "Have you been forced to have a shorter working week (Kurzarbeit)? If yes, how many hours per week                                                                 NaN\n",
       "Have you received additional monetary support from your employer due to Work From Home? If yes, how much in 2020 in EUR                                           NaN\n",
       "Name: 883, dtype: object"
      ]
     },
     "execution_count": 39,
     "metadata": {},
     "output_type": "execute_result"
    }
   ],
   "source": [
    "i = salary['Yearly brutto salary (without bonus and stocks) in EUR'].idxmin()\n",
    "salary.loc[i]"
   ]
  },
  {
   "cell_type": "markdown",
   "metadata": {},
   "source": [
    "df['iznos'] = df['iznos'].replace({100: 999, 200: 888})"
   ]
  },
  {
   "cell_type": "code",
   "execution_count": 43,
   "metadata": {},
   "outputs": [
    {
     "name": "stderr",
     "output_type": "stream",
     "text": [
      "C:\\Users\\Python\\AppData\\Local\\Temp\\ipykernel_3012\\650361367.py:1: FutureWarning: ChainedAssignmentError: behaviour will change in pandas 3.0!\n",
      "You are setting values through chained assignment. Currently this works in certain cases, but when using Copy-on-Write (which will become the default behaviour in pandas 3.0) this will never work to update the original DataFrame or Series, because the intermediate object on which we are setting values will behave as a copy.\n",
      "A typical example is when you are setting values in a column of a DataFrame, like:\n",
      "\n",
      "df[\"col\"][row_indexer] = value\n",
      "\n",
      "Use `df.loc[row_indexer, \"col\"] = values` instead, to perform the assignment in a single step and ensure this keeps updating the original `df`.\n",
      "\n",
      "See the caveats in the documentation: https://pandas.pydata.org/pandas-docs/stable/user_guide/indexing.html#returning-a-view-versus-a-copy\n",
      "\n",
      "  salary['Yearly brutto salary (without bonus and stocks) in EUR'][i] = 150000\n",
      "C:\\Users\\Python\\AppData\\Local\\Temp\\ipykernel_3012\\650361367.py:1: SettingWithCopyWarning: \n",
      "A value is trying to be set on a copy of a slice from a DataFrame\n",
      "\n",
      "See the caveats in the documentation: https://pandas.pydata.org/pandas-docs/stable/user_guide/indexing.html#returning-a-view-versus-a-copy\n",
      "  salary['Yearly brutto salary (without bonus and stocks) in EUR'][i] = 150000\n"
     ]
    }
   ],
   "source": [
    "salary['Yearly brutto salary (without bonus and stocks) in EUR'][i] = 150000"
   ]
  },
  {
   "cell_type": "code",
   "execution_count": 44,
   "metadata": {},
   "outputs": [
    {
     "data": {
      "text/plain": [
       "Timestamp                                                                                                                                         28/11/2020 05:36:11\n",
       "Age                                                                                                                                                              27.0\n",
       "Gender                                                                                                                                                           Male\n",
       "City                                                                                                                                                          Hamburg\n",
       "Position                                                                                                                                            Backend Developer\n",
       "Total years of experience                                                                                                                                           3\n",
       "Years of experience in Germany                                                                                                                                      ⁰\n",
       "Seniority level                                                                                                                                                Middle\n",
       "Your main technology / programming language                                                                                                                      .net\n",
       "Other technologies/programming languages you use often                                                                     Javascript / Typescript, .NET, SQL, Docker\n",
       "Yearly brutto salary (without bonus and stocks) in EUR                                                                                                       150000.0\n",
       "Yearly bonus + stocks in EUR                                                                                                                                      NaN\n",
       "Annual brutto salary (without bonus and stocks) one year ago. Only answer if staying in the same country                                                          NaN\n",
       "Annual bonus+stocks one year ago. Only answer if staying in same country                                                                                          NaN\n",
       "Number of vacation days                                                                                                                                           NaN\n",
       "Employment status                                                                                                                                  Part-time employee\n",
       "Сontract duration                                                                                                                                  Temporary contract\n",
       "Main language at work                                                                                                                                         English\n",
       "Company size                                                                                                                                                    11-50\n",
       "Company type                                                                                                                                      Consulting / Agency\n",
       "Have you lost your job due to the coronavirus outbreak?                                                                                                            No\n",
       "Have you been forced to have a shorter working week (Kurzarbeit)? If yes, how many hours per week                                                                 NaN\n",
       "Have you received additional monetary support from your employer due to Work From Home? If yes, how much in 2020 in EUR                                           NaN\n",
       "Name: 883, dtype: object"
      ]
     },
     "execution_count": 44,
     "metadata": {},
     "output_type": "execute_result"
    }
   ],
   "source": [
    "salary.loc[i]"
   ]
  },
  {
   "cell_type": "code",
   "execution_count": 45,
   "metadata": {},
   "outputs": [
    {
     "data": {
      "text/plain": [
       "np.float64(71766.86741007194)"
      ]
     },
     "execution_count": 45,
     "metadata": {},
     "output_type": "execute_result"
    }
   ],
   "source": [
    "salary['Yearly brutto salary (without bonus and stocks) in EUR'].mean()"
   ]
  },
  {
   "cell_type": "code",
   "execution_count": 46,
   "metadata": {},
   "outputs": [
    {
     "data": {
      "text/plain": [
       "np.float64(70000.0)"
      ]
     },
     "execution_count": 46,
     "metadata": {},
     "output_type": "execute_result"
    }
   ],
   "source": [
    "salary['Yearly brutto salary (without bonus and stocks) in EUR'].median()"
   ]
  },
  {
   "cell_type": "code",
   "execution_count": 49,
   "metadata": {},
   "outputs": [
    {
     "data": {
      "text/plain": [
       "Seniority level\n",
       "Senior                                       565\n",
       "Middle                                       365\n",
       "Lead                                         166\n",
       "Junior                                        79\n",
       "Head                                          44\n",
       "Principal                                      3\n",
       "VP                                             1\n",
       "No level                                       1\n",
       "Manager                                        1\n",
       "Work Center Manager                            1\n",
       "No level                                       1\n",
       "CTO                                            1\n",
       "Director                                       1\n",
       "Key                                            1\n",
       "C-level executive manager                      1\n",
       "intern                                         1\n",
       "Student                                        1\n",
       "no idea, there are no ranges in the firm       1\n",
       "C-Level                                        1\n",
       "Working Student                                1\n",
       "Entry level                                    1\n",
       "Intern                                         1\n",
       "student                                        1\n",
       "Self employed                                  1\n",
       "Name: count, dtype: int64"
      ]
     },
     "execution_count": 49,
     "metadata": {},
     "output_type": "execute_result"
    }
   ],
   "source": [
    "salary['Seniority level'].value_counts()"
   ]
  },
  {
   "cell_type": "markdown",
   "metadata": {},
   "source": [
    "prosjecna_starost = titanic.groupby('Survived')['Age'].mean()"
   ]
  },
  {
   "cell_type": "code",
   "execution_count": null,
   "metadata": {},
   "outputs": [],
   "source": []
  },
  {
   "cell_type": "code",
   "execution_count": 53,
   "metadata": {},
   "outputs": [
    {
     "data": {
      "text/plain": [
       "Total years of experience\n",
       "0                                                       39666.666667\n",
       "0.8                                                     29750.000000\n",
       "1                                                       58883.333333\n",
       "1 (as QA Engineer) / 11 in total                        60000.000000\n",
       "1,5                                                     48000.000000\n",
       "1.5                                                     53925.000000\n",
       "10                                                      78094.072464\n",
       "11                                                      78560.465116\n",
       "12                                                      81380.597015\n",
       "13                                                      82583.292683\n",
       "14                                                      79833.333333\n",
       "15                                                      78874.603175\n",
       "15, thereof 8 as CTO                                   150000.000000\n",
       "16                                                      80395.000000\n",
       "17                                                      82375.000000\n",
       "18                                                     141000.000000\n",
       "19                                                      86585.714286\n",
       "2                                                       50384.210526\n",
       "2,5                                                     40000.000000\n",
       "2.5                                                     50000.000000\n",
       "20                                                      95457.142857\n",
       "21                                                      78333.333333\n",
       "22                                                      62800.000000\n",
       "23                                                     100000.000000\n",
       "24                                                     130000.000000\n",
       "25                                                      76428.571429\n",
       "26                                                      93000.000000\n",
       "27                                                      73500.000000\n",
       "28                                                      78500.000000\n",
       "29                                                      28800.000000\n",
       "3                                                       55374.015152\n",
       "3.5                                                     62500.000000\n",
       "30                                                      73500.000000\n",
       "31                                                     110000.000000\n",
       "383                                                     70000.000000\n",
       "4                                                       58223.489125\n",
       "4.5                                                     67500.000000\n",
       "40                                                      70000.000000\n",
       "5                                                       66983.647059\n",
       "5.5                                                     48000.000000\n",
       "6                                                       70744.949495\n",
       "6 (not as a data scientist, but as a lab scientist)     57000.000000\n",
       "6.5                                                     58000.000000\n",
       "7                                                       69720.238095\n",
       "7.5                                                     68000.000000\n",
       "8                                                       68507.717391\n",
       "9                                                       75031.216667\n",
       "less than year                                          16320.000000\n",
       "Name: Yearly brutto salary (without bonus and stocks) in EUR, dtype: float64"
      ]
     },
     "execution_count": 53,
     "metadata": {},
     "output_type": "execute_result"
    }
   ],
   "source": [
    "iskustvo_plata = salary.groupby('Total years of experience')['Yearly brutto salary (without bonus and stocks) in EUR'].mean()\n",
    "iskustvo_plata"
   ]
  },
  {
   "cell_type": "code",
   "execution_count": 54,
   "metadata": {},
   "outputs": [
    {
     "data": {
      "text/plain": [
       "Index(['Timestamp', 'Age', 'Gender', 'City', 'Position ',\n",
       "       'Total years of experience', 'Years of experience in Germany',\n",
       "       'Seniority level', 'Your main technology / programming language',\n",
       "       'Other technologies/programming languages you use often',\n",
       "       'Yearly brutto salary (without bonus and stocks) in EUR',\n",
       "       'Yearly bonus + stocks in EUR',\n",
       "       'Annual brutto salary (without bonus and stocks) one year ago. Only answer if staying in the same country',\n",
       "       'Annual bonus+stocks one year ago. Only answer if staying in same country',\n",
       "       'Number of vacation days', 'Employment status', 'Сontract duration',\n",
       "       'Main language at work', 'Company size', 'Company type',\n",
       "       'Have you lost your job due to the coronavirus outbreak?',\n",
       "       'Have you been forced to have a shorter working week (Kurzarbeit)? If yes, how many hours per week',\n",
       "       'Have you received additional monetary support from your employer due to Work From Home? If yes, how much in 2020 in EUR'],\n",
       "      dtype='object')"
      ]
     },
     "execution_count": 54,
     "metadata": {},
     "output_type": "execute_result"
    }
   ],
   "source": [
    "salary.columns"
   ]
  },
  {
   "cell_type": "code",
   "execution_count": null,
   "metadata": {},
   "outputs": [],
   "source": [
    "i = salary['Yearly brutto salary (without bonus and stocks) in EUR'].idxmin()\n",
    "salary.loc[i]"
   ]
  },
  {
   "cell_type": "code",
   "execution_count": 58,
   "metadata": {},
   "outputs": [
    {
     "data": {
      "text/plain": [
       "City\n",
       "Aachen        40082.000000\n",
       "Amsterdam     74538.888889\n",
       "Ansbach       42000.000000\n",
       "Barcelona     31000.000000\n",
       "Basel        115000.000000\n",
       "                 ...      \n",
       "Wroclaw       36000.000000\n",
       "Würzburg      75000.000000\n",
       "Zurich       123300.000000\n",
       "Zürich        35000.000000\n",
       "warsaw        50000.000000\n",
       "Name: Yearly brutto salary (without bonus and stocks) in EUR, Length: 119, dtype: float64"
      ]
     },
     "execution_count": 58,
     "metadata": {},
     "output_type": "execute_result"
    }
   ],
   "source": [
    "plata_gradovi = salary.groupby('City')['Yearly brutto salary (without bonus and stocks) in EUR'].mean()\n",
    "plata_gradovi"
   ]
  },
  {
   "cell_type": "code",
   "execution_count": 59,
   "metadata": {},
   "outputs": [
    {
     "data": {
      "text/plain": [
       "City\n",
       "Aachen       1190\n",
       "Amsterdam     857\n",
       "Ansbach       264\n",
       "Barcelona     944\n",
       "Basel         967\n",
       "             ... \n",
       "Wroclaw       617\n",
       "Würzburg      410\n",
       "Zurich        958\n",
       "Zürich       1019\n",
       "warsaw        983\n",
       "Name: Yearly brutto salary (without bonus and stocks) in EUR, Length: 119, dtype: int64"
      ]
     },
     "execution_count": 59,
     "metadata": {},
     "output_type": "execute_result"
    }
   ],
   "source": [
    "plata_gradovi = salary.groupby('City')['Yearly brutto salary (without bonus and stocks) in EUR'].idxmax()\n",
    "plata_gradovi"
   ]
  },
  {
   "cell_type": "code",
   "execution_count": 60,
   "metadata": {},
   "outputs": [
    {
     "data": {
      "text/plain": [
       "City\n",
       "Aachen        366\n",
       "Amsterdam     925\n",
       "Ansbach       264\n",
       "Barcelona     712\n",
       "Basel         967\n",
       "             ... \n",
       "Wroclaw       617\n",
       "Würzburg      410\n",
       "Zurich       1037\n",
       "Zürich       1019\n",
       "warsaw        983\n",
       "Name: Yearly brutto salary (without bonus and stocks) in EUR, Length: 119, dtype: int64"
      ]
     },
     "execution_count": 60,
     "metadata": {},
     "output_type": "execute_result"
    }
   ],
   "source": [
    "plata_gradovi = salary.groupby('City')['Yearly brutto salary (without bonus and stocks) in EUR'].idxmin()\n",
    "plata_gradovi"
   ]
  },
  {
   "cell_type": "markdown",
   "metadata": {},
   "source": [
    "df[[\"Sale Price KM\",\"Product Name\"]].max()"
   ]
  },
  {
   "cell_type": "code",
   "execution_count": 61,
   "metadata": {},
   "outputs": [
    {
     "data": {
      "text/plain": [
       "Yearly brutto salary (without bonus and stocks) in EUR    850000.0\n",
       "City                                                        warsaw\n",
       "dtype: object"
      ]
     },
     "execution_count": 61,
     "metadata": {},
     "output_type": "execute_result"
    }
   ],
   "source": [
    "salary[['Yearly brutto salary (without bonus and stocks) in EUR', 'City']].max()"
   ]
  },
  {
   "cell_type": "code",
   "execution_count": 62,
   "metadata": {},
   "outputs": [
    {
     "data": {
      "text/plain": [
       "Yearly brutto salary (without bonus and stocks) in EUR    10001.0\n",
       "City                                                       Aachen\n",
       "dtype: object"
      ]
     },
     "execution_count": 62,
     "metadata": {},
     "output_type": "execute_result"
    }
   ],
   "source": [
    "salary[['Yearly brutto salary (without bonus and stocks) in EUR', 'City']].min()"
   ]
  },
  {
   "cell_type": "code",
   "execution_count": 63,
   "metadata": {},
   "outputs": [
    {
     "data": {
      "text/plain": [
       "'Istanbul'"
      ]
     },
     "execution_count": 63,
     "metadata": {},
     "output_type": "execute_result"
    }
   ],
   "source": [
    "plata_gradovi = salary.groupby('City')['Yearly brutto salary (without bonus and stocks) in EUR'].mean().idxmin()\n",
    "plata_gradovi"
   ]
  },
  {
   "cell_type": "code",
   "execution_count": 65,
   "metadata": {},
   "outputs": [
    {
     "data": {
      "text/plain": [
       "'Cupertino'"
      ]
     },
     "execution_count": 65,
     "metadata": {},
     "output_type": "execute_result"
    }
   ],
   "source": [
    "plata_gradovi = salary.groupby('City')['Yearly brutto salary (without bonus and stocks) in EUR'].mean().idxmax()\n",
    "plata_gradovi"
   ]
  },
  {
   "cell_type": "code",
   "execution_count": 66,
   "metadata": {},
   "outputs": [
    {
     "data": {
      "text/plain": [
       "Your main technology / programming language\n",
       "Java                 184\n",
       "Python               164\n",
       "PHP                   56\n",
       "C++                   38\n",
       "JavaScript            34\n",
       "                    ... \n",
       ".Net, Angular          1\n",
       "Atlassian JIRA         1\n",
       "Qlik                   1\n",
       "spark                  1\n",
       "consumer analysis      1\n",
       "Name: count, Length: 255, dtype: int64"
      ]
     },
     "execution_count": 66,
     "metadata": {},
     "output_type": "execute_result"
    }
   ],
   "source": [
    "salary['Your main technology / programming language'].value_counts()"
   ]
  },
  {
   "cell_type": "code",
   "execution_count": 72,
   "metadata": {},
   "outputs": [
    {
     "data": {
      "text/plain": [
       "Annual bonus+stocks one year ago. Only answer if staying in same country\n",
       "-                                  24000.000000\n",
       "0                                  68598.175000\n",
       "100                                57000.000000\n",
       "1000                               67823.076923\n",
       "10000                              86164.000000\n",
       "                                       ...     \n",
       "92000                              88000.000000\n",
       "94000                              75000.000000\n",
       "9500                               90000.000000\n",
       "98000                              90000.000000\n",
       "learning budget, bvg, gym, food    57000.000000\n",
       "Name: Yearly brutto salary (without bonus and stocks) in EUR, Length: 130, dtype: float64"
      ]
     },
     "execution_count": 72,
     "metadata": {},
     "output_type": "execute_result"
    }
   ],
   "source": [
    "plata_bonus = salary.groupby('Annual bonus+stocks one year ago. Only answer if staying in same country')['Yearly brutto salary (without bonus and stocks) in EUR'].mean()\n",
    "plata_bonus"
   ]
  },
  {
   "cell_type": "code",
   "execution_count": null,
   "metadata": {},
   "outputs": [],
   "source": []
  },
  {
   "cell_type": "code",
   "execution_count": null,
   "metadata": {},
   "outputs": [],
   "source": []
  },
  {
   "cell_type": "code",
   "execution_count": null,
   "metadata": {},
   "outputs": [],
   "source": []
  },
  {
   "cell_type": "code",
   "execution_count": null,
   "metadata": {},
   "outputs": [],
   "source": []
  }
 ],
 "metadata": {
  "kernelspec": {
   "display_name": "Python 3",
   "language": "python",
   "name": "python3"
  },
  "language_info": {
   "codemirror_mode": {
    "name": "ipython",
    "version": 3
   },
   "file_extension": ".py",
   "mimetype": "text/x-python",
   "name": "python",
   "nbconvert_exporter": "python",
   "pygments_lexer": "ipython3",
   "version": "3.13.0"
  }
 },
 "nbformat": 4,
 "nbformat_minor": 2
}
